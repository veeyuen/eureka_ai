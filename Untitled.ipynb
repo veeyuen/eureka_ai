{
 "cells": [
  {
   "cell_type": "code",
   "execution_count": null,
   "id": "cc31ac65-bd58-4ea4-a78b-39de16aa1a4e",
   "metadata": {},
   "outputs": [],
   "source": [
    "import os\n",
    "import requests\n",
    "\n",
    "# Step 1: Set up environment & API key securely\n",
    "# You can either store the Perplexity key in an environment variable,\n",
    "# or replace os.getenv(\"PERPLEXITY_API_KEY\") with the key string directly.\n",
    "API_KEY = os.getenv(\"PERPLEXITY_API_KEY\")\n",
    "\n",
    "# Base endpoint for Perplexity's chat completions API\n",
    "API_URL = \"https://api.perplexity.ai/chat/completions\"\n",
    "\n",
    "# Define a system‑level instruction that restricts allowed topics\n",
    "SYSTEM_PROMPT = (\n",
    "    \"You are a specialized research AI assistant who only answers \"\n",
    "    \"questions related to business, markets, finance, or economics. \"\n",
    "    \"If a user asks about an unrelated topic, politely decline.\"\n",
    ")\n",
    "\n",
    "def ask_perplexity(question: str):\n",
    "    \"\"\"\n",
    "    Sends a query to the Perplexity Sonar API with a controlled system prompt.\n",
    "    Returns the model's text reply.\n",
    "    \"\"\"\n",
    "    headers = {\n",
    "        \"Authorization\": f\"Bearer {API_KEY}\",\n",
    "        \"Content-Type\": \"application/json\"\n",
    "    }\n",
    "\n",
    "    payload = {\n",
    "        \"model\": \"sonar-large\",  # You can use sonar-small / sonar-medium depending on plan\n",
    "        \"messages\": [\n",
    "            {\"role\": \"system\", \"content\": SYSTEM_PROMPT},\n",
    "            {\"role\": \"user\", \"content\": question}\n",
    "        ],\n",
    "        # Optional tuning:\n",
    "        \"temperature\": 0.5,\n",
    "        \"max_tokens\": 800\n",
    "    }\n",
    "\n",
    "    response = requests.post(API_URL, headers=headers, json=payload)\n",
    "    response.raise_for_status()\n",
    "    data = response.json()\n",
    "    return data[\"choices\"][0][\"message\"][\"content\"]\n",
    "\n",
    "# Example use\n",
    "if __name__ == \"__main__\":\n",
    "    query = \"What are the latest trends in global bond yields?\"\n",
    "    result = ask_perplexity(query)\n",
    "    print(result)\n"
   ]
  }
 ],
 "metadata": {
  "kernelspec": {
   "display_name": "Python 3 (ipykernel)",
   "language": "python",
   "name": "python3"
  },
  "language_info": {
   "codemirror_mode": {
    "name": "ipython",
    "version": 3
   },
   "file_extension": ".py",
   "mimetype": "text/x-python",
   "name": "python",
   "nbconvert_exporter": "python",
   "pygments_lexer": "ipython3",
   "version": "3.11.12"
  }
 },
 "nbformat": 4,
 "nbformat_minor": 5
}
